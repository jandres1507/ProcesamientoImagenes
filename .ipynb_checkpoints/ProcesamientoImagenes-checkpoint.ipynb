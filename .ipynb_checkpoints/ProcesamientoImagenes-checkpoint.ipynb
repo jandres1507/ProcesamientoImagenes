{
 "cells": [
  {
   "cell_type": "markdown",
   "id": "976247e2",
   "metadata": {},
   "source": [
    "# PROYECTO DE MATERIA \n",
    "## TRATAMIENTO DE DATOS\n",
    "\n",
    "### Jaime Andrés Subía"
   ]
  },
  {
   "cell_type": "markdown",
   "id": "a69ea583",
   "metadata": {},
   "source": [
    "Paso 1:"
   ]
  },
  {
   "cell_type": "code",
   "execution_count": null,
   "id": "a3307ceb",
   "metadata": {},
   "outputs": [],
   "source": []
  }
 ],
 "metadata": {
  "kernelspec": {
   "display_name": "Python 3 (ipykernel)",
   "language": "python",
   "name": "python3"
  },
  "language_info": {
   "codemirror_mode": {
    "name": "ipython",
    "version": 3
   },
   "file_extension": ".py",
   "mimetype": "text/x-python",
   "name": "python",
   "nbconvert_exporter": "python",
   "pygments_lexer": "ipython3",
   "version": "3.9.12"
  }
 },
 "nbformat": 4,
 "nbformat_minor": 5
}
